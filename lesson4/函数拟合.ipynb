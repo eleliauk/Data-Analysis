{
 "cells": [
  {
   "cell_type": "code",
   "execution_count": 1,
   "id": "c244684c",
   "metadata": {},
   "outputs": [],
   "source": [
    "import numpy as np\n",
    "import scipy\n",
    "from scipy.optimize import curve_fit\n",
    "import matplotlib.pyplot as plt"
   ]
  },
  {
   "cell_type": "markdown",
   "id": "be5cbd50",
   "metadata": {},
   "source": [
    "$$\n",
    "f(x) = a e^{-\\frac 1 2 \\left( \\frac{x-b}{c} \\right)^2}\n",
    "$$"
   ]
  },
  {
   "cell_type": "code",
   "execution_count": 2,
   "id": "68a0df03",
   "metadata": {},
   "outputs": [],
   "source": [
    "# a -> height\n",
    "# b -> location\n",
    "# c -> std/scale\n",
    "def f(x, a, b, c):\n",
    "    return a * np.exp(-(x - b) ** 2 / 2 / c ** 2)"
   ]
  },
  {
   "cell_type": "markdown",
   "id": "096f3c1d",
   "metadata": {},
   "source": [
    "## `curve_fit`简单示例"
   ]
  },
  {
   "cell_type": "code",
   "execution_count": 3,
   "id": "ddb7759a",
   "metadata": {},
   "outputs": [
    {
     "name": "stdout",
     "output_type": "stream",
     "text": [
      "[1.00000000e+00 5.22105953e-09 1.41421356e+00]\n"
     ]
    }
   ],
   "source": [
    "# f(x, 1, 0, 1)\n",
    "def g(x):\n",
    "    return np.exp(-(x) ** 2 / 2 ** 2)\n",
    "\n",
    "xs = np.linspace(-4, 4, 30)\n",
    "ys = g(xs)\n",
    "\n",
    "popt, _ = curve_fit(f, xs, ys)\n",
    "print(popt)"
   ]
  },
  {
   "cell_type": "markdown",
   "id": "689e5cdf",
   "metadata": {},
   "source": [
    "## 实际使用"
   ]
  },
  {
   "cell_type": "code",
   "execution_count": 4,
   "id": "4c4a0808",
   "metadata": {},
   "outputs": [
    {
     "data": {
      "image/png": "[encoded data removed]",
      "text/plain": [
       "<Figure size 720x432 with 1 Axes>"
      ]
     },
     "metadata": {
      "needs_background": "light"
     },
     "output_type": "display_data"
    }
   ],
   "source": [
    "# 获取样本\n",
    "np.random.seed(0)\n",
    "samples = np.random.normal(size=3000)\n",
    "plt.figure(figsize=(10, 6))\n",
    "\n",
    "# 用直方图统计频次、并获取bins的中点\n",
    "ys, edges, _ = plt.hist(samples, 30, histtype='step')\n",
    "xs = (edges[:-1] + edges[1:]) / 2\n",
    "plt.scatter(xs, ys, c='tab:orange')\n",
    "\n",
    "# 拟合并作出相应的曲线\n",
    "args, _ = curve_fit(f, xs, ys)\n",
    "xxs = np.linspace(-4, 4, 30)\n",
    "plt.plot(xxs, f(xxs, *args), c='g')\n",
    "\n",
    "# 作errorbar图像\n",
    "yhats = f(xs, *args)\n",
    "yerrs = yhats - ys \n",
    "plt.errorbar(xs, ys, yerrs, fmt='none', ecolor='tab:orange')\n",
    "\n",
    "plt.show()"
   ]
  },
  {
   "cell_type": "markdown",
   "id": "6e89e94d",
   "metadata": {},
   "source": [
    "## 方差计算"
   ]
  },
  {
   "cell_type": "code",
   "execution_count": 5,
   "id": "da6d446b",
   "metadata": {},
   "outputs": [
    {
     "name": "stdout",
     "output_type": "stream",
     "text": [
      "0.6666666666666666\n"
     ]
    }
   ],
   "source": [
    "data = np.arange(3)\n",
    "var = np.var(data)\n",
    "print(var)"
   ]
  }
 ],
 "metadata": {
  "kernelspec": {
   "display_name": "Python 3 (ipykernel)",
   "language": "python",
   "name": "python3"
  },
  "language_info": {
   "codemirror_mode": {
    "name": "ipython",
    "version": 3
   },
   "file_extension": ".py",
   "mimetype": "text/x-python",
   "name": "python",
   "nbconvert_exporter": "python",
   "pygments_lexer": "ipython3",
   "version": "3.11.5"
  },
  "toc": {
   "base_numbering": 1,
   "nav_menu": {},
   "number_sections": true,
   "sideBar": true,
   "skip_h1_title": false,
   "title_cell": "Table of Contents",
   "title_sidebar": "Contents",
   "toc_cell": false,
   "toc_position": {},
   "toc_section_display": true,
   "toc_window_display": false
  }
 },
 "nbformat": 4,
 "nbformat_minor": 5
}
