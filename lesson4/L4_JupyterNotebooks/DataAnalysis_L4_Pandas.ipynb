{
 "cells": [
  {
   "cell_type": "markdown",
   "id": "0cb10879-c91f-4617-98c5-66a7cc8a7103",
   "metadata": {},
   "source": [
    "# What can Pandas do for you?\n",
    "\n",
    "What is Pandas?\n",
    "\n",
    "It is a Panda library for working with data sets. It provides many functions useful for __data analysis__, including for cleaning, manipulating, exploring and analyzing data\n",
    "\n",
    "Makes analyzing large data sets more convenient and robust\n"
   ]
  },
  {
   "cell_type": "code",
   "execution_count": 221,
   "id": "fe647094-abda-4807-ad9e-5e02755eddb1",
   "metadata": {},
   "outputs": [],
   "source": [
    "# to use pandas we need to import the library\n",
    "\n",
    "import numpy as np\n",
    "import pandas as pd"
   ]
  },
  {
   "cell_type": "markdown",
   "id": "7d17c3b2-6198-4a88-afde-8948c047b369",
   "metadata": {},
   "source": [
    "pandas provides two basic types of data structures\n",
    "\n",
    "A __Series__ is a __one-dimensional__ array holding data of any type\n",
    "\n",
    "A __Dataframe__ a __two-dimensional__ structure that holds data in a table with rows and columns\n"
   ]
  },
  {
   "cell_type": "code",
   "execution_count": 222,
   "id": "54e3891b-707d-4b24-8591-8a6e8126d253",
   "metadata": {},
   "outputs": [
    {
     "name": "stdout",
     "output_type": "stream",
     "text": [
      "0          23\n",
      "1         324\n",
      "2           2\n",
      "3           0\n",
      "4         ABC\n",
      "5    -1230123\n",
      "6         DEF\n",
      "dtype: object\n"
     ]
    }
   ],
   "source": [
    "# example of a Series\n",
    "\n",
    "s = pd.Series([23,324,2,0,\"ABC\",-1230123,\"DEF\"])\n",
    "print(s)"
   ]
  },
  {
   "cell_type": "code",
   "execution_count": 223,
   "id": "e24d80af-7f02-4479-b10a-15a6db9e1519",
   "metadata": {},
   "outputs": [
    {
     "name": "stdout",
     "output_type": "stream",
     "text": [
      "324\n",
      "324\n"
     ]
    }
   ],
   "source": [
    "# we can automatically index the series (with an index running from 0....len(data)-1) \n",
    "# or create our own index\n",
    "s2 = pd.Series([23,324,2,0,\"ABC\",-1230123,\"DEF\"],index=[\"a\",\"b\",\"c\",\"d\",\"e\",\"f\",\"g\"])\n",
    "\n",
    "print(s[1])\n",
    "print(s2[\"b\"])"
   ]
  },
  {
   "cell_type": "code",
   "execution_count": 224,
   "id": "329c736d-98c4-46b8-aa09-ccb611998100",
   "metadata": {},
   "outputs": [
    {
     "name": "stdout",
     "output_type": "stream",
     "text": [
      "0     0.635094\n",
      "1     0.941060\n",
      "2     0.646573\n",
      "3     0.683590\n",
      "4     0.003450\n",
      "        ...   \n",
      "95    0.417866\n",
      "96    0.038952\n",
      "97    0.490520\n",
      "98    0.803587\n",
      "99    0.385296\n",
      "Length: 100, dtype: float64\n",
      "median for Series s3 is 0.524\n",
      "average for Series s3 is 0.512\n"
     ]
    }
   ],
   "source": [
    "# the Series provides a number of useful functions\n",
    "\n",
    "s3 = pd.Series(np.random.rand(100))\n",
    "print(s3)\n",
    "print(f'median for Series s3 is {s3.median():.3}')\n",
    "print(f'average for Series s3 is {s3.mean():.3}')"
   ]
  },
  {
   "cell_type": "code",
   "execution_count": 225,
   "id": "5ceadd7c-c807-480d-9ef6-9f5b6fe8401c",
   "metadata": {},
   "outputs": [
    {
     "name": "stdout",
     "output_type": "stream",
     "text": [
      "Type of s is object\n",
      "Type of s3 is float64\n"
     ]
    }
   ],
   "source": [
    "# each series has a single data type (dtype)\n",
    "print('Type of s is',s.dtype)\n",
    "print('Type of s3 is', s3.dtype)"
   ]
  },
  {
   "cell_type": "code",
   "execution_count": 226,
   "id": "9d63a35c-bc27-44e8-9845-ecdf8eff788b",
   "metadata": {},
   "outputs": [
    {
     "name": "stdout",
     "output_type": "stream",
     "text": [
      "0.6350942702180267\n",
      "0.9410601765976279\n",
      "0.6465725605752566\n",
      "0.6835898879106909\n",
      "0.00344973081106692\n",
      "0.6996644667552868\n",
      "0.8718720498132525\n",
      "0.7677542998368385\n",
      "0.5904896803783956\n",
      "0.1512210359072842\n",
      "sum is 5.99\n"
     ]
    }
   ],
   "source": [
    "# we can easily loop over the elements in the series\n",
    "# we can use slicing like for arrays\n",
    "\n",
    "sum = 0.0\n",
    "\n",
    "#loop over the first 10 elements\n",
    "for x in s3[:10]:\n",
    "    print(x)\n",
    "    sum += x\n",
    "print(f'sum is {sum:.3}')"
   ]
  },
  {
   "cell_type": "code",
   "execution_count": 227,
   "id": "e519fdeb-e6e0-4cbb-aada-89565a35ecfb",
   "metadata": {},
   "outputs": [
    {
     "name": "stdout",
     "output_type": "stream",
     "text": [
      "False\n"
     ]
    }
   ],
   "source": [
    "# example of data cleaning\n",
    "# one useful check in making sure your data make sense is looking for \"NaN\" - Not a Number\n",
    "# can happen is one accidentally divides by zero etc\n",
    "\n",
    "# check if our series contains a 'NaN'\n",
    "\n",
    "print(s3.hasnans)"
   ]
  },
  {
   "cell_type": "code",
   "execution_count": 228,
   "id": "4c3951c8-58c2-4992-96ed-abe0b3d5264d",
   "metadata": {},
   "outputs": [
    {
     "name": "stdout",
     "output_type": "stream",
     "text": [
      "True\n"
     ]
    }
   ],
   "source": [
    "# what happens is we add one?\n",
    "\n",
    "s3[4] = None\n",
    "print(s3.hasnans)"
   ]
  },
  {
   "cell_type": "code",
   "execution_count": 229,
   "id": "f73c5382-ecb4-49e8-8f78-670c6ec75968",
   "metadata": {},
   "outputs": [
    {
     "data": {
      "text/plain": [
       "Text(0, 0.5, 'Entries per bin')"
      ]
     },
     "execution_count": 229,
     "metadata": {},
     "output_type": "execute_result"
    },
    {
     "data": {
      "image/png": "[encoded data removed]",
      "text/plain": [
       "<Figure size 640x480 with 1 Axes>"
      ]
     },
     "metadata": {},
     "output_type": "display_data"
    }
   ],
   "source": [
    "# we can plot the data in our series directly\n",
    "\n",
    "ax = s3.plot.hist(bins=5)\n",
    "ax.set_xlabel(\"Number\")\n",
    "ax.set_ylabel(\"Entries per bin\")"
   ]
  },
  {
   "cell_type": "markdown",
   "id": "8b6f61a9-0333-4f07-b792-1d31f968fe30",
   "metadata": {},
   "source": [
    "Even more useful are the Pandas Dataframes\n",
    "\n",
    "These are two dimensional tables holding your data and providing many powerful functions.\n",
    "Some key features of a Pandas DataFrame:\n",
    "\n",
    "* Data representation: Stores data in a table format with rows and columns.\n",
    "* Heterogeneous data types: Can hold different data types in different columns (e.g., integers, floats, strings, booleans).\n",
    "* Labeling: Each row and column has a label (index and column names).\n",
    "* Mutable: Allows data manipulation and modification.\n",
    "* Powerful operations: Provides various functions and methods for data analysis, manipulation, and exploration.\n",
    "* Extensible: Can be customized and extended with additional functionalities through libraries and user-defined functions.\n"
   ]
  },
  {
   "cell_type": "code",
   "execution_count": 230,
   "id": "532a1c1b-521e-4dda-8edd-2e233ddf745f",
   "metadata": {},
   "outputs": [],
   "source": [
    "# let's look at a simple DataFrame\n",
    "\n",
    "df = pd.DataFrame(\n",
    "{\n",
    "    \"Name\": [\"Braund, Mr. Owen Harris\", \"Allen, Mr. William Henry\",\"Bonnell, Miss. Elizabeth\",],\n",
    "    \"Age\": [22, 35, 58],\n",
    "    \"Sex\": [\"male\", \"male\", \"female\"],\n",
    "})"
   ]
  },
  {
   "cell_type": "code",
   "execution_count": 231,
   "id": "46ff0ac4-b807-45d6-a1de-8036b7c14110",
   "metadata": {},
   "outputs": [
    {
     "data": {
      "text/html": [
       "<div>\n",
       "<style scoped>\n",
       "    .dataframe tbody tr th:only-of-type {\n",
       "        vertical-align: middle;\n",
       "    }\n",
       "\n",
       "    .dataframe tbody tr th {\n",
       "        vertical-align: top;\n",
       "    }\n",
       "\n",
       "    .dataframe thead th {\n",
       "        text-align: right;\n",
       "    }\n",
       "</style>\n",
       "<table border=\"1\" class=\"dataframe\">\n",
       "  <thead>\n",
       "    <tr style=\"text-align: right;\">\n",
       "      <th></th>\n",
       "      <th>Name</th>\n",
       "      <th>Age</th>\n",
       "      <th>Sex</th>\n",
       "    </tr>\n",
       "  </thead>\n",
       "  <tbody>\n",
       "    <tr>\n",
       "      <th>0</th>\n",
       "      <td>Braund, Mr. Owen Harris</td>\n",
       "      <td>22</td>\n",
       "      <td>male</td>\n",
       "    </tr>\n",
       "    <tr>\n",
       "      <th>1</th>\n",
       "      <td>Allen, Mr. William Henry</td>\n",
       "      <td>35</td>\n",
       "      <td>male</td>\n",
       "    </tr>\n",
       "    <tr>\n",
       "      <th>2</th>\n",
       "      <td>Bonnell, Miss. Elizabeth</td>\n",
       "      <td>58</td>\n",
       "      <td>female</td>\n",
       "    </tr>\n",
       "  </tbody>\n",
       "</table>\n",
       "</div>"
      ],
      "text/plain": [
       "                       Name  Age     Sex\n",
       "0   Braund, Mr. Owen Harris   22    male\n",
       "1  Allen, Mr. William Henry   35    male\n",
       "2  Bonnell, Miss. Elizabeth   58  female"
      ]
     },
     "execution_count": 231,
     "metadata": {},
     "output_type": "execute_result"
    }
   ],
   "source": [
    "df"
   ]
  },
  {
   "cell_type": "code",
   "execution_count": 232,
   "id": "c86f0840-55b8-4b4f-834a-40b267fc8b7c",
   "metadata": {},
   "outputs": [
    {
     "data": {
      "text/plain": [
       "0    22\n",
       "1    35\n",
       "2    58\n",
       "Name: Age, dtype: int64"
      ]
     },
     "execution_count": 232,
     "metadata": {},
     "output_type": "execute_result"
    }
   ],
   "source": [
    "# each column in the DataFrame is series\n",
    "\n",
    "df[\"Age\"]"
   ]
  },
  {
   "cell_type": "code",
   "execution_count": 233,
   "id": "3c93c57a-d1b7-47d2-93a1-8233bee85cdc",
   "metadata": {},
   "outputs": [
    {
     "data": {
      "text/plain": [
       "38.333333333333336"
      ]
     },
     "execution_count": 233,
     "metadata": {},
     "output_type": "execute_result"
    }
   ],
   "source": [
    "df[\"Age\"].mean()"
   ]
  },
  {
   "cell_type": "markdown",
   "id": "ebd9b824-db31-432e-be4e-35f896761de6",
   "metadata": {},
   "source": [
    "Let's look at some more interesting data. Use Pandas DataFrame to read in the Pendulum data file we used previously"
   ]
  },
  {
   "cell_type": "code",
   "execution_count": 234,
   "id": "a90816ba-106b-4c54-adc9-05243fa69666",
   "metadata": {},
   "outputs": [],
   "source": [
    "pendulum = pd.read_csv(\"../Data/pendulumData.csv\")"
   ]
  },
  {
   "cell_type": "code",
   "execution_count": 235,
   "id": "0936817a-34f0-41dd-828f-8ebf50fcd759",
   "metadata": {},
   "outputs": [
    {
     "data": {
      "text/html": [
       "<div>\n",
       "<style scoped>\n",
       "    .dataframe tbody tr th:only-of-type {\n",
       "        vertical-align: middle;\n",
       "    }\n",
       "\n",
       "    .dataframe tbody tr th {\n",
       "        vertical-align: top;\n",
       "    }\n",
       "\n",
       "    .dataframe thead th {\n",
       "        text-align: right;\n",
       "    }\n",
       "</style>\n",
       "<table border=\"1\" class=\"dataframe\">\n",
       "  <thead>\n",
       "    <tr style=\"text-align: right;\">\n",
       "      <th></th>\n",
       "      <th>label</th>\n",
       "      <th>g (m/s2)</th>\n",
       "      <th>stat uncert</th>\n",
       "      <th>sys uncert</th>\n",
       "      <th>total uncert</th>\n",
       "    </tr>\n",
       "  </thead>\n",
       "  <tbody>\n",
       "    <tr>\n",
       "      <th>0</th>\n",
       "      <td>20.Sep.X.B01.01</td>\n",
       "      <td>9.830</td>\n",
       "      <td>0.0075</td>\n",
       "      <td>\"+0.35,-0.44\"</td>\n",
       "      <td>NaN</td>\n",
       "    </tr>\n",
       "    <tr>\n",
       "      <th>1</th>\n",
       "      <td>20.Sep.X.B01.02</td>\n",
       "      <td>9.060</td>\n",
       "      <td>0.14</td>\n",
       "      <td>0.23</td>\n",
       "      <td>NaN</td>\n",
       "    </tr>\n",
       "    <tr>\n",
       "      <th>2</th>\n",
       "      <td>20.Sep.X.B01.03</td>\n",
       "      <td>9.790</td>\n",
       "      <td>0.02</td>\n",
       "      <td>0.02</td>\n",
       "      <td>NaN</td>\n",
       "    </tr>\n",
       "    <tr>\n",
       "      <th>3</th>\n",
       "      <td>20.Sep.X.B01.04</td>\n",
       "      <td>9.882</td>\n",
       "      <td>0.016</td>\n",
       "      <td>0.13</td>\n",
       "      <td>NaN</td>\n",
       "    </tr>\n",
       "    <tr>\n",
       "      <th>4</th>\n",
       "      <td>20.Sep.X.B01.05</td>\n",
       "      <td>978.000</td>\n",
       "      <td>17</td>\n",
       "      <td>8</td>\n",
       "      <td>NaN</td>\n",
       "    </tr>\n",
       "    <tr>\n",
       "      <th>...</th>\n",
       "      <td>...</td>\n",
       "      <td>...</td>\n",
       "      <td>...</td>\n",
       "      <td>...</td>\n",
       "      <td>...</td>\n",
       "    </tr>\n",
       "    <tr>\n",
       "      <th>348</th>\n",
       "      <td>24.Feb.A.B01.05</td>\n",
       "      <td>10.600</td>\n",
       "      <td>0.6</td>\n",
       "      <td>0.8</td>\n",
       "      <td>NaN</td>\n",
       "    </tr>\n",
       "    <tr>\n",
       "      <th>349</th>\n",
       "      <td>24.Feb.A.B02.01</td>\n",
       "      <td>9.500</td>\n",
       "      <td>NaN</td>\n",
       "      <td>NaN</td>\n",
       "      <td>0.7</td>\n",
       "    </tr>\n",
       "    <tr>\n",
       "      <th>350</th>\n",
       "      <td>24.Feb.A.B02.02</td>\n",
       "      <td>9.000</td>\n",
       "      <td>NaN</td>\n",
       "      <td>NaN</td>\n",
       "      <td>0.8</td>\n",
       "    </tr>\n",
       "    <tr>\n",
       "      <th>351</th>\n",
       "      <td>24.Feb.A.B02.03</td>\n",
       "      <td>9.900</td>\n",
       "      <td>NaN</td>\n",
       "      <td>NaN</td>\n",
       "      <td>0.4</td>\n",
       "    </tr>\n",
       "    <tr>\n",
       "      <th>352</th>\n",
       "      <td>24.Feb.A.B02.04</td>\n",
       "      <td>9.230</td>\n",
       "      <td>NaN</td>\n",
       "      <td>NaN</td>\n",
       "      <td>1.08</td>\n",
       "    </tr>\n",
       "  </tbody>\n",
       "</table>\n",
       "<p>353 rows × 5 columns</p>\n",
       "</div>"
      ],
      "text/plain": [
       "               label  g (m/s2) stat uncert     sys uncert total uncert\n",
       "0    20.Sep.X.B01.01     9.830      0.0075  \"+0.35,-0.44\"          NaN\n",
       "1    20.Sep.X.B01.02     9.060        0.14           0.23          NaN\n",
       "2    20.Sep.X.B01.03     9.790        0.02           0.02          NaN\n",
       "3    20.Sep.X.B01.04     9.882       0.016           0.13          NaN\n",
       "4    20.Sep.X.B01.05   978.000          17              8          NaN\n",
       "..               ...       ...         ...            ...          ...\n",
       "348  24.Feb.A.B01.05    10.600         0.6            0.8          NaN\n",
       "349  24.Feb.A.B02.01     9.500         NaN            NaN          0.7\n",
       "350  24.Feb.A.B02.02     9.000         NaN            NaN          0.8\n",
       "351  24.Feb.A.B02.03     9.900         NaN            NaN          0.4\n",
       "352  24.Feb.A.B02.04     9.230         NaN            NaN         1.08\n",
       "\n",
       "[353 rows x 5 columns]"
      ]
     },
     "execution_count": 235,
     "metadata": {},
     "output_type": "execute_result"
    }
   ],
   "source": [
    "pendulum\n"
   ]
  },
  {
   "cell_type": "markdown",
   "id": "6500423d-9c76-4ede-a002-cd3acf797eed",
   "metadata": {},
   "source": [
    "Well, that was easy!\n",
    "\n",
    "We can get the most interesting column and analyze it further"
   ]
  },
  {
   "cell_type": "code",
   "execution_count": 236,
   "id": "0bfbf308-7f93-4aa0-bf85-f55258c5c713",
   "metadata": {},
   "outputs": [],
   "source": [
    "g = pendulum[\"g (m/s2)\"]"
   ]
  },
  {
   "cell_type": "code",
   "execution_count": 237,
   "id": "074e3584-cb43-4e97-904e-ef51dbf7c80c",
   "metadata": {},
   "outputs": [
    {
     "name": "stdout",
     "output_type": "stream",
     "text": [
      "Average value for g is 12.6 m/s^2\n"
     ]
    }
   ],
   "source": [
    "print(f'Average value for g is {g.mean():.3} m/s^2')"
   ]
  },
  {
   "cell_type": "markdown",
   "id": "ed0002bd-66b0-4a3f-92bf-b92c8e0307e7",
   "metadata": {},
   "source": [
    "That's very high. Let's look at the data again."
   ]
  },
  {
   "cell_type": "code",
   "execution_count": 238,
   "id": "81c59ca1-6149-4d90-bb14-d765651887d4",
   "metadata": {},
   "outputs": [
    {
     "data": {
      "image/png": "[encoded data removed]",
      "text/plain": [
       "<Figure size 640x480 with 1 Axes>"
      ]
     },
     "metadata": {},
     "output_type": "display_data"
    }
   ],
   "source": [
    "ax = g.plot.hist()\n",
    "ax.set_yscale(\"log\")"
   ]
  },
  {
   "cell_type": "markdown",
   "id": "06bd6115-43b7-49c4-85ed-de7c0f4217fb",
   "metadata": {},
   "source": [
    "Ok, we see again that there was one value that was measured in cm/s^2 instead if m/s^2\n",
    "\n",
    "We can get the index of this value and drop it from the series (we could also correct it by dividing it by 100)"
   ]
  },
  {
   "cell_type": "code",
   "execution_count": 239,
   "id": "027d1034-7f6b-4a26-b98e-9350b80d7354",
   "metadata": {},
   "outputs": [
    {
     "name": "stdout",
     "output_type": "stream",
     "text": [
      "Average value for g is 12.6 m/s^2\n",
      "Maximum value found in series is 978.0\n"
     ]
    }
   ],
   "source": [
    "print(f'Average value for g is {g.mean():.3} m/s^2')\n",
    "print(f'Maximum value found in series is {g.max()}')"
   ]
  },
  {
   "cell_type": "code",
   "execution_count": 240,
   "id": "cb805fca-fc35-4f9c-8a62-21552f327875",
   "metadata": {},
   "outputs": [
    {
     "name": "stdout",
     "output_type": "stream",
     "text": [
      "the index for the maximum value is 4\n"
     ]
    }
   ],
   "source": [
    "# get the index for the maximum value\n",
    "i = g.idxmax()\n",
    "print(f'the index for the maximum value is {i}')"
   ]
  },
  {
   "cell_type": "code",
   "execution_count": 241,
   "id": "9f8a02f0-9777-43ec-96a0-c34c7528dc5e",
   "metadata": {},
   "outputs": [
    {
     "name": "stdout",
     "output_type": "stream",
     "text": [
      "9.78\n"
     ]
    }
   ],
   "source": [
    "# we'll make a copy of the data and replace it with a corrected value\n",
    "gc = g.copy()\n",
    "gc[i] = g[i]/100.0\n",
    "print(gc[i])"
   ]
  },
  {
   "cell_type": "code",
   "execution_count": 242,
   "id": "2655658f-4828-45bc-a853-576b5403e47e",
   "metadata": {},
   "outputs": [
    {
     "name": "stdout",
     "output_type": "stream",
     "text": [
      "Maximum value found in series is 15.7\n",
      "Average value for g is 9.83 m/s^2\n",
      "Standard deviation for g is 0.702 m/s^2\n"
     ]
    },
    {
     "data": {
      "text/plain": [
       "Text(0.5, 0, 'observed value of g (m/s^2)')"
      ]
     },
     "execution_count": 242,
     "metadata": {},
     "output_type": "execute_result"
    },
    {
     "data": {
      "image/png": "[encoded data removed]",
      "text/plain": [
       "<Figure size 640x480 with 1 Axes>"
      ]
     },
     "metadata": {},
     "output_type": "display_data"
    }
   ],
   "source": [
    "\n",
    "# now we get this distribution\n",
    "print(f'Maximum value found in series is {gc.max()}')\n",
    "print(f'Average value for g is {gc.mean():.3} m/s^2')\n",
    "print(f'Standard deviation for g is {gc.std():.3} m/s^2')\n",
    "\n",
    "# and the histogram looks different as well\n",
    "\n",
    "ax = gc.plot.hist(bins=50)\n",
    "ax.set_ylabel(\"Entries per bin\")\n",
    "ax.set_xlabel(\"observed value of g (m/s^2)\")"
   ]
  },
  {
   "cell_type": "code",
   "execution_count": 243,
   "id": "8b202ba9-c06b-4351-8e11-4ee00b408df2",
   "metadata": {},
   "outputs": [
    {
     "name": "stdout",
     "output_type": "stream",
     "text": [
      "               label  g (m/s2) stat uncert     sys uncert total uncert\n",
      "0    20.Sep.X.B01.01     9.830      0.0075  \"+0.35,-0.44\"          NaN\n",
      "1    20.Sep.X.B01.02     9.060        0.14           0.23          NaN\n",
      "2    20.Sep.X.B01.03     9.790        0.02           0.02          NaN\n",
      "3    20.Sep.X.B01.04     9.882       0.016           0.13          NaN\n",
      "4    20.Sep.X.B01.05   978.000          17              8          NaN\n",
      "..               ...       ...         ...            ...          ...\n",
      "348  24.Feb.A.B01.05    10.600         0.6            0.8          NaN\n",
      "349  24.Feb.A.B02.01     9.500         NaN            NaN          0.7\n",
      "350  24.Feb.A.B02.02     9.000         NaN            NaN          0.8\n",
      "351  24.Feb.A.B02.03     9.900         NaN            NaN          0.4\n",
      "352  24.Feb.A.B02.04     9.230         NaN            NaN         1.08\n",
      "\n",
      "[353 rows x 5 columns]\n"
     ]
    }
   ],
   "source": [
    "# Let's go back to the DataFrame with all the data\n",
    "print(pendulum)"
   ]
  },
  {
   "cell_type": "code",
   "execution_count": 244,
   "id": "be415d07-4169-4932-926b-1e3ff83c64de",
   "metadata": {},
   "outputs": [
    {
     "name": "stdout",
     "output_type": "stream",
     "text": [
      "0      20.Sep.X.B01.01\n",
      "1      20.Sep.X.B01.02\n",
      "2      20.Sep.X.B01.03\n",
      "3      20.Sep.X.B01.04\n",
      "4      20.Sep.X.B01.05\n",
      "            ...       \n",
      "348    24.Feb.A.B01.05\n",
      "349    24.Feb.A.B02.01\n",
      "350    24.Feb.A.B02.02\n",
      "351    24.Feb.A.B02.03\n",
      "352    24.Feb.A.B02.04\n",
      "Name: label, Length: 353, dtype: object\n"
     ]
    }
   ],
   "source": [
    "label = pendulum[\"label\"]\n",
    "print(label)"
   ]
  },
  {
   "cell_type": "markdown",
   "id": "35612258-10d0-42b2-874e-0ecf68be85fd",
   "metadata": {},
   "source": [
    "The best data should be in the rows with an \"A\" label after the date"
   ]
  },
  {
   "cell_type": "code",
   "execution_count": 256,
   "id": "cea7ae0b-df28-4e4e-bc56-c746871e922d",
   "metadata": {},
   "outputs": [
    {
     "name": "stdout",
     "output_type": "stream",
     "text": [
      "Mean of 165 \"A\" values is 9.88, std dev is 0.947\n",
      "Mean of 157 \"B\" values is 9.79, std dev is 0.378\n",
      "Mean of 31 \"X\" values is 9.76, std dev is 0.323\n"
     ]
    },
    {
     "data": {
      "text/plain": [
       "<matplotlib.legend.Legend at 0x1587f3090>"
      ]
     },
     "execution_count": 256,
     "metadata": {},
     "output_type": "execute_result"
    },
    {
     "data": {
      "image/png": "[encoded data removed]",
      "text/plain": [
       "<Figure size 640x480 with 1 Axes>"
      ]
     },
     "metadata": {},
     "output_type": "display_data"
    }
   ],
   "source": [
    "g1 = []\n",
    "g2 = []\n",
    "g3 = []\n",
    "\n",
    "# split the data set in the different types of measurements, \"A\", \"B\", \"X\"\n",
    "i = 0\n",
    "for l in label:\n",
    "    if(l[7] == \"A\"):\n",
    "        g1.append(gc[i])\n",
    "    elif(l[7] == \"B\"):\n",
    "        g2.append(gc[i])\n",
    "    else:\n",
    "        g3.append(gc[i])\n",
    "    i += 1\n",
    "gA = pd.Series(g1)\n",
    "print(f'Mean of {len(g1)} \"A\" values is {gA.mean():.3}, std dev is {gA.std():.3}')\n",
    "gB = pd.Series(g2)\n",
    "print(f'Mean of {len(g2)} \"B\" values is {gB.mean():.3}, std dev is {gB.std():.3}')\n",
    "gX = pd.Series(g3)\n",
    "print(f'Mean of {len(g3)} \"X\" values is {gX.mean():.3}, std dev is {gX.std():.3}')\n",
    "\n",
    "ax = gA.plot.hist(bins=50,alpha=0.5, label = \"A values\")\n",
    "gB.plot.hist(bins=50, alpha = 0.5, label = \"B values\" )\n",
    "ax.set_xlabel(\"Observed value of g (m/s^2)\")\n",
    "ax.set_ylabel(\"Entries per bin\")\n",
    "ax.legend()"
   ]
  },
  {
   "cell_type": "code",
   "execution_count": null,
   "id": "3533318c-ad28-4379-8390-0ebd0e1c3b08",
   "metadata": {},
   "outputs": [],
   "source": []
  }
 ],
 "metadata": {
  "kernelspec": {
   "display_name": "Python 3 (ipykernel)",
   "language": "python",
   "name": "python3"
  },
  "language_info": {
   "codemirror_mode": {
    "name": "ipython",
    "version": 3
   },
   "file_extension": ".py",
   "mimetype": "text/x-python",
   "name": "python",
   "nbconvert_exporter": "python",
   "pygments_lexer": "ipython3",
   "version": "3.11.7"
  }
 },
 "nbformat": 4,
 "nbformat_minor": 5
}
