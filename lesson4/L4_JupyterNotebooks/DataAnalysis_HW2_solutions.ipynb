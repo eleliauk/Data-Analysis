{
 "cells": [
  {
   "cell_type": "markdown",
   "id": "7ce1fd82",
   "metadata": {},
   "source": [
    "# Homework 2 solutions\n",
    "\n",
    "# Question 1. \n",
    "Write a Python script that reads in all lines of the data file and stores the values of the “TimeStamp [ms]” column in an array. The TimeStamp column is the 4th column in the data rows."
   ]
  },
  {
   "cell_type": "code",
   "execution_count": 10,
   "id": "38bca4f8",
   "metadata": {
    "scrolled": true
   },
   "outputs": [
    {
     "name": "stdout",
     "output_type": "stream",
     "text": [
      "******************************************\n",
      "Starting at 23/03/2024 15:54:07\n",
      "\n",
      "\n",
      "Reading sensor data from ../Data/TopRight_20230803.txt\n",
      "Preparing to read data from  ../Data/TopRight_20230803.txt\n",
      "../Data/TopRight_20230803.txt found\n",
      "Open  ../Data/TopRight_20230803.txt\n",
      "Read seven line CosmicWatch file header\n",
      "Read data\n",
      "Total events read from  ../Data/TopRight_20230803.txt =  763301\n"
     ]
    }
   ],
   "source": [
    "#!/usr/bin/env python3\n",
    "# -*- coding: utf-8 -*-\n",
    "\"\"\"\n",
    "Created on Mon June 27 2022\n",
    "@author: rolandg\n",
    "\"\"\"\n",
    "\n",
    "from datetime import datetime\n",
    "import numpy as np\n",
    "import matplotlib.pylab as plt\n",
    "from matplotlib.colors import LogNorm\n",
    "import os\n",
    "import sys\n",
    "\n",
    "#Function to read data from file \"fname\"\n",
    "#Function will read until end of file\n",
    "\n",
    "def read_data(fname):\n",
    "\n",
    "    print(\"Preparing to read data from \",fname)\n",
    "\n",
    "    #Check if file exists\n",
    "    flag = os.path.exists(fname)   \n",
    "    if flag : \n",
    "        print(fname, \"found\")\n",
    "    else:\n",
    "        print(fname, \"does not exist\")\n",
    "        sys.exit()\n",
    "\n",
    "\n",
    "    print(\"Open \", fname)            \n",
    "    f = open(fname,\"r\")\n",
    "\n",
    "    # read and discard header lines\n",
    "    print(\"Read seven line CosmicWatch file header\")\n",
    "    for i in range(7):\n",
    "        s = f.readline()\n",
    "        \n",
    "    print(\"Read data\")\n",
    "    ts    = []\n",
    "    SiPM  = []\n",
    "    Coinc = []\n",
    "#the while loop will run until the end of file or i == nevent\n",
    "    flag = True\n",
    "    i = 0\n",
    "    while flag:\n",
    "        s = f.readline()\n",
    "        if s:\n",
    "            ss = s.split()\n",
    "            if(int(ss[0]) == (i+1) and len(ss) > 10):\n",
    "#Extract the timestamp information, SiPM voltage and coincidence flag from the input line\n",
    "                ts.append(float(ss[3]))\n",
    "                SiPM.append(float(ss[6]))\n",
    "                Coinc.append(float(ss[10]))\n",
    "                i = i + 1\n",
    "            else:\n",
    "                print(\"Huh:\",int(ss[0]),i+1)\n",
    "        else:\n",
    "            # reached end of file; stop while loop\n",
    "            flag = False\n",
    "        \n",
    "    print(\"Total events read from \",filename, \"= \",i)\n",
    "    f.close()\n",
    "    return ts,SiPM,Coinc\n",
    "# end of read_data()\n",
    "\n",
    "\n",
    "now = datetime.now()\n",
    "dt_string = now.strftime(\"%d/%m/%Y %H:%M:%S\")\n",
    "print(\"******************************************\")\n",
    "print(\"Starting at\",dt_string)\n",
    "print(\"\\n\")\n",
    "filename = \"../Data/TopRight_20230803.txt\"\n",
    "print(\"Reading sensor data from\",filename)\n",
    "ts1, SiPM,Coinc = read_data(filename)\n"
   ]
  },
  {
   "cell_type": "markdown",
   "id": "2ee778e7",
   "metadata": {},
   "source": [
    "# Question 2. \n",
    "\n",
    "How many elements does the array have (this is the number of signal events in the data file)?"
   ]
  },
  {
   "cell_type": "code",
   "execution_count": 11,
   "id": "1cfb0cc7",
   "metadata": {
    "scrolled": true
   },
   "outputs": [
    {
     "name": "stdout",
     "output_type": "stream",
     "text": [
      "Answer to question 2:\n",
      "File contains 763301 signal events\n"
     ]
    }
   ],
   "source": [
    "N_total = len(ts1)\n",
    "print(\"Answer to question 2:\")\n",
    "print(f\"File contains {N_total} signal events\")"
   ]
  },
  {
   "cell_type": "markdown",
   "id": "52cbb999",
   "metadata": {},
   "source": [
    "# Question 3.\n",
    "Fill the TimeStamp values into a 1 dimensional histogram with 100 bins. What is the shape of the distribution you see?"
   ]
  },
  {
   "cell_type": "code",
   "execution_count": 6,
   "id": "e55e6db8",
   "metadata": {},
   "outputs": [
    {
     "data": {
      "image/png": "[encoded data removed]",
      "text/plain": [
       "<Figure size 720x360 with 1 Axes>"
      ]
     },
     "metadata": {
      "needs_background": "light"
     },
     "output_type": "display_data"
    }
   ],
   "source": [
    "plt.figure(figsize=(10,5))      \n",
    "nbins =100\n",
    "\n",
    "plt.subplot(121)\n",
    "counts1, edges1, xxx = plt.hist(ts1,nbins, histtype='step',color='g')\n"
   ]
  },
  {
   "cell_type": "markdown",
   "id": "67236d9e",
   "metadata": {},
   "source": [
    "Answer to question 3: The distribution is approximately uniform (flat)"
   ]
  },
  {
   "cell_type": "markdown",
   "id": "ba579718",
   "metadata": {},
   "source": [
    "# Question 4:\n",
    "\n",
    "The TimeStamp value, measured in milli-seconds, indicates when after t = 0s each signal event occurred. The value of the last TimeStamp gives the total durationover which data were collected. Approximately, what is the rate of signal events per second?"
   ]
  },
  {
   "cell_type": "code",
   "execution_count": 14,
   "id": "76c62fea",
   "metadata": {},
   "outputs": [
    {
     "name": "stdout",
     "output_type": "stream",
     "text": [
      "Data were taken from 609.0ms to 318579019.0ms \n",
      "Total data taking time was 318578.41 seconds\n",
      "Anser to question 4:\n",
      "The rate of events was 2.396 events per second\n"
     ]
    }
   ],
   "source": [
    "t_last = ts1[-1]\n",
    "t_first = ts1[0]\n",
    "#calculate total time and convert from milliseconds to seconds\n",
    "t_total = (t_last - t_first)/1000.0\n",
    "print(f\"Data were taken from {t_first}ms to {t_last}ms \")\n",
    "print(f\"Total data taking time was {t_total} seconds\")\n",
    "\n",
    "rate = N_total/t_total\n",
    "\n",
    "print(\"Anser to question 4:\")\n",
    "print(f\"The rate of events was {rate:.4} events per second\" )"
   ]
  },
  {
   "cell_type": "markdown",
   "id": "0f3a68ac",
   "metadata": {},
   "source": [
    "# Question 5:\n",
    "\n",
    "What is the relative statistical uncertainty on the average rate of signal events per second, based on the TimeStamp information?\n"
   ]
  },
  {
   "cell_type": "code",
   "execution_count": 32,
   "id": "1ab4f3af",
   "metadata": {
    "scrolled": true
   },
   "outputs": [
    {
     "name": "stdout",
     "output_type": "stream",
     "text": [
      "Answer to question 5:\n",
      "This is a counting experiment with 763301 independent events in time interval 318578.41s\n",
      "We can think of this as one trial drawing from a Poisson distribution with mean 763301\n",
      "The standard deviation of this Poisson distribution is sqrt(mean) = 873.671\n",
      "The absolute uncertainty on the mean is given by sigma = std dev/sqrt(# of trials\n",
      "In this case sigma = 873.671/1\n",
      "The relative uncertainty is therefore sigma/N = 0.00114 or 0.1%\n"
     ]
    }
   ],
   "source": [
    "print(\"Answer to question 5:\")\n",
    "print(f\"This is a counting experiment with {N_total} independent events in time interval {t_total}s\")\n",
    "print(f\"We can think of this as one trial drawing from a Poisson distribution with mean {N_total}\"\n",
    ")\n",
    "print(f\"The standard deviation of this Poisson distribution is sqrt(mean) = {np.sqrt(N_total):.3f}\")\n",
    "print(f\"The absolute uncertainty on the mean is given by sigma = std dev/sqrt(# of trials\")\n",
    "print(f\"In this case sigma = {np.sqrt(N_total):.3f}/1\")\n",
    "print(f\"The relative uncertainty is therefore sigma/N = {np.sqrt(N_total)/N_total:.3} or {np.sqrt(N_total)/N_total*100:.1}%\")"
   ]
  },
  {
   "cell_type": "code",
   "execution_count": null,
   "id": "637a50fc",
   "metadata": {},
   "outputs": [],
   "source": []
  }
 ],
 "metadata": {
  "kernelspec": {
   "display_name": "Python 3 (ipykernel)",
   "language": "python",
   "name": "python3"
  },
  "language_info": {
   "codemirror_mode": {
    "name": "ipython",
    "version": 3
   },
   "file_extension": ".py",
   "mimetype": "text/x-python",
   "name": "python",
   "nbconvert_exporter": "python",
   "pygments_lexer": "ipython3",
   "version": "3.11.7"
  }
 },
 "nbformat": 4,
 "nbformat_minor": 5
}
