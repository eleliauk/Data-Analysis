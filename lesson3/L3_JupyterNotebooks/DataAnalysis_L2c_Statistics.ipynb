{
 "cells": [
  {
   "cell_type": "markdown",
   "metadata": {
    "jp-MarkdownHeadingCollapsed": true
   },
   "source": [
    "# Introduction to Statistics for Data Analysis\n",
    "\n",
    "- we talked about 3 elements data science:\n",
    "- Coding\n",
    "- Multivariate statistics\n",
    "- Domain knowledge\n",
    "- start with an introduction to important statistical concepts"
   ]
  },
  {
   "cell_type": "markdown",
   "metadata": {},
   "source": [
    "# Example\n",
    "\n",
    "- let's assume we want to know how many cars use a certain road per day\n",
    "- we install some device counts the cars every day for a week\n",
    "- we get 7 numbers\n",
    "- which number should we report as the number of cars per day?\n",
    "- __average__"
   ]
  },
  {
   "cell_type": "code",
   "execution_count": 2,
   "metadata": {},
   "outputs": [
    {
     "name": "stdout",
     "output_type": "stream",
     "text": [
      "cars per day =  [3059, 2911, 3048, 2943, 2958, 3006, 2970, 3056, 3033, 3019, 3038, 3019, 3023, 2976, 2993, 2966, 2999, 3051, 3044, 2985, 3007, 2890, 2968, 2994, 3003, 2958, 3033, 2873, 3029, 3084, 2974, 2999, 2907, 2919, 3032, 3044, 3056, 2994, 3033, 2971, 3039, 3094, 3077, 3079, 2935, 2963, 3033, 3010, 3036, 3089, 2998, 3054, 3085, 2924, 3075, 3012, 3053, 3017, 3059, 2909, 3035, 3027, 3000, 2955, 3003, 2914, 2968, 3030, 2938, 2913, 2962, 3042, 2862, 3041, 2986, 3156, 3100, 2943, 2923, 3070, 2944, 3010, 2907, 2990, 2965, 3046, 2976, 3000, 3016, 2903, 3032, 3050, 3021, 3000, 2989, 3030, 3076, 2961, 2998, 3037, 2951, 3032, 2954, 3110, 3037, 3034, 3069, 3019, 3040, 2946, 3083, 3043, 2874, 2958, 3066, 3027, 3030, 2931, 2973, 3073, 2949, 2943, 3089, 3006, 2905, 3046, 3050, 2943, 2933, 3125, 3032, 3087, 3055, 2968, 2957, 3091, 2982, 3017, 3123, 2983, 3016, 2926, 2941, 2970, 2940, 2858, 3021, 2978, 3025, 2925, 3037, 2996, 3037, 2938, 3048, 3106, 3079, 2949, 2884, 3065, 3004, 2895, 3116, 2906, 3017, 2971, 2968, 3043, 3031, 2963, 2975, 3038, 2853, 3001, 3031, 2963, 2967, 3015, 3017, 2925, 2875, 2932, 2953, 2964, 3000, 2950, 2989, 2918, 2955, 3007, 3068, 2987, 3042, 2987, 2998, 2960, 3085, 3087, 2952, 2974, 3027, 2939, 3002, 3002, 3008, 2885, 3027, 3060, 3047, 2987, 3006, 3035, 2985, 3015, 3069, 3096, 2927, 3029, 3071, 2953, 3067, 3056, 2990, 3135, 3053, 2982, 3011, 3038, 2973, 3064, 2950, 3118, 3143, 2964, 3008, 2935, 3105, 3031, 3009, 3044, 2951, 3068, 2947, 2965, 2979, 2856, 3048, 2899, 3001, 2985, 3030, 3017, 2940, 3034, 3066, 3047, 3024, 3069, 3034, 3096, 3019, 3050, 3020, 3043, 2885, 2989, 2960, 3013, 3107, 2979, 3008, 2973, 2962, 3013, 2965, 2909, 3027, 3006, 3065, 3002, 2947, 3054, 2913, 2972, 2962, 3028, 2892, 3003, 3030, 2969, 2954, 2945, 2974, 3004, 3010, 2986, 3014, 2993, 2989, 3130, 3039, 2995, 3033, 3024, 2996, 3004, 2972, 3013, 3019, 2915, 2963, 3098, 3024, 3015, 2910, 2966, 2926, 2968, 3045, 3040, 2976, 3068, 2964, 3051, 2938, 3050, 3048, 2947, 3038, 3039, 2975, 3106, 2955, 3047, 2969, 2964, 2981, 3017, 3001, 3009, 3036, 2998, 2961, 2995, 3104, 3054, 2969, 2991, 3045, 2936, 3044, 3056, 3040, 3003, 2976, 3049, 3041, 3068, 3010, 2927, 3012, 2939, 2982, 2960, 2980, 3006, 3023, 3033, 3019, 3059, 3047, 3070, 3066, 2966, 3010, 3045, 2968, 2934, 3003, 2973, 2973, 3027, 3002, 2999, 3069, 2945, 3028, 3002, 3045, 3045, 3050, 3018, 2924, 2998, 2991, 3028, 2996, 2904, 2936, 3097, 3026, 3096, 2948, 3084, 3006, 2950, 2957, 3097, 3090, 2945, 3049, 3036, 2985, 2993, 2971, 2947, 2878, 2958, 2954, 3133, 3035, 3043, 3115, 2985, 2956, 3009, 3018, 3080, 2955, 3010, 2995, 3098, 2949, 3009, 2975, 3055, 2969, 3060, 3004, 3034, 2976, 2976, 2997, 3016, 2993, 3028, 3075, 3080, 3042, 3031, 2940, 2895, 3105, 3078, 3020, 3015, 2902, 2966, 3063, 2982, 2974, 3018, 3029, 2990, 2882, 3041, 2945, 3159, 3018, 3017, 2874, 2965, 2976, 3006, 2995, 2932, 3032, 2957, 3056, 2943, 2969, 2974, 3040, 2928, 3063, 2859, 3032, 2952, 2970, 3036, 2835, 3136, 3116, 3015, 2965, 2990, 3037, 3068, 2841, 3086, 2920, 3028, 2995, 3020, 3004, 2909, 2929, 2965, 2984, 2978, 2994, 3059, 3031, 3031, 3077, 3003, 3011, 3006, 3002, 2974, 3078, 2993, 3036, 2975, 2956, 3007, 2966, 3055, 2932, 2992, 2956, 3001, 3009, 3089, 2954, 3043, 2902, 3025, 3081, 3048, 3006, 2961, 3053, 2964, 2995, 3105, 2942, 3110, 2992, 2974, 2998, 3050, 2926, 2988, 2917, 3001, 2989, 2999, 3041, 3013, 3094, 3030, 2983, 2977, 3004, 2964, 2951, 3076, 2980, 3005, 2982, 2995, 3119, 2995, 2946, 3059, 2961, 3063, 2940, 3057, 2995, 2969, 2967, 2979, 2938, 3066, 3069, 2944, 3015, 3016, 3030, 3099, 3033, 3008, 2931, 2908, 2913, 3056, 3003, 3008, 2956, 3032, 3015, 2940, 2964, 2989, 2929, 3020, 3054, 3057, 2976, 3006, 2998, 2967, 3016, 3020, 3075, 2911, 3039, 3049, 3075, 3055, 2990, 3027, 2966, 3035, 3025, 3018, 3034, 2918, 2976, 2961, 3118, 3065, 3016, 2961, 2922, 2966, 2925, 2976, 3002, 2997, 2983, 2963, 2906, 2993, 3053, 3010, 3069, 3105, 2972, 3001, 3008, 2941, 3013, 3110, 3040, 2953, 3017, 3045, 3010, 2896, 3012, 3032, 3028, 3023, 3072, 2900, 2936, 3003, 3009, 3062, 3114, 3020, 3012, 3024, 2994, 2961, 3063, 3003, 2984, 3003, 2975, 2961, 2989, 3052, 2984, 2982, 3076, 3113, 3009, 2938, 3002, 2929, 3080, 2993, 3052, 2979, 2978, 3045]\n",
      "average number of cars per day over 700 days =  3003.1114285714284\n"
     ]
    }
   ],
   "source": [
    "import numpy as np\n",
    "\n",
    "def count_cars(days):    \n",
    "    x = np.random.normal(3000,np.sqrt(3000),days)\n",
    "    cars_per_day = []\n",
    "    for i in range(days):\n",
    "        cars_per_day.append(int(x[i]))\n",
    "    average = np.average(cars_per_day)\n",
    "    return cars_per_day, average\n",
    "\n",
    "days = 700\n",
    "cars_per_day, average = count_cars(days)\n",
    "print(\"cars per day = \", cars_per_day)\n",
    "print(\"average number of cars per day over\",days,\"days = \", average)"
   ]
  },
  {
   "cell_type": "markdown",
   "metadata": {},
   "source": [
    "- are we done here? \n",
    "- well, not if we want to do data __science__\n",
    "- in science (in particular physics, but everywhere else as well) the uncertainty of our measurement is as important as the measurement itself\n",
    "- let's look at our data"
   ]
  },
  {
   "cell_type": "code",
   "execution_count": 3,
   "metadata": {},
   "outputs": [
    {
     "data": {
      "image/png": "[encoded data removed]",
      "text/plain": [
       "<Figure size 432x288 with 1 Axes>"
      ]
     },
     "metadata": {
      "needs_background": "light"
     },
     "output_type": "display_data"
    }
   ],
   "source": [
    "import matplotlib.pyplot as plt\n",
    "\n",
    "plt.hist(cars_per_day, bins = 100)\n",
    "plt.xlabel('cars per day')\n",
    "plt.show()"
   ]
  },
  {
   "cell_type": "markdown",
   "metadata": {},
   "source": [
    "- What is the uncertainty on the number of cars per day? \n",
    "- How can we calculate it from the distribution?\n",
    "- the distribution has three characteristic parameters:\n",
    "\n",
    "1. the *average* : $\\mu$\n",
    "2. the *number of measurements*: N\n",
    "3. the *spread of the distribution*: $\\sigma$\n",
    "\n",
    "- which of these three characteristics will determine the uncertainty?"
   ]
  },
  {
   "cell_type": "markdown",
   "metadata": {},
   "source": [
    "- if there are more measurements, we are adding __information__\n",
    "- more information should mean that the uncertainty decreases when N increases\n",
    "- the spread $\\sigma$ of the distribution is directly related to the uncertainty: the bigger the spread the bigger the uncertainty"
   ]
  },
  {
   "cell_type": "markdown",
   "metadata": {},
   "source": [
    "- how do we characterize the spread of the distribution?\n",
    "- use the __Variance__ !\n",
    "- defined as $var = \\frac{1}{N-1} \\sum_{i=0}^{N-1} (x_i - \\langle x_i \\rangle)^2$\n",
    "- We usually talk about the standard deviation std $ = \\sqrt(\\mbox{var})$\n",
    "- For a given variance and N, the uncertainty will not depend on the average $\\mu$!\n",
    "- the uncertainty will be $\\sigma = \\mbox{std}/\\sqrt(N)$"
   ]
  },
  {
   "cell_type": "code",
   "execution_count": 4,
   "metadata": {},
   "outputs": [
    {
     "name": "stdout",
     "output_type": "stream",
     "text": [
      "variance =  3041.999012244898 , standard deviation =  55.1543199780842 , uncertainty =  2.084637348469889\n"
     ]
    }
   ],
   "source": [
    "var = np.var(cars_per_day)\n",
    "std = np.std(cars_per_day)\n",
    "print(\"variance = \",var, \", standard deviation = \",std, \", uncertainty = \",std/np.sqrt(days))\n"
   ]
  },
  {
   "cell_type": "markdown",
   "metadata": {},
   "source": [
    "- let's do an \"experiment\" to check that this is makes sense\n",
    "- let's repeat the measurement 100 times and see how much the measurements spread out\n",
    "- that should match the calculated uncertainty"
   ]
  },
  {
   "cell_type": "code",
   "execution_count": 5,
   "metadata": {},
   "outputs": [
    {
     "name": "stdout",
     "output_type": "stream",
     "text": [
      "standard deviation of cars_per_week: 19.674760118341617\n"
     ]
    },
    {
     "data": {
      "image/png": "[encoded data removed]",
      "text/plain": [
       "<Figure size 432x288 with 1 Axes>"
      ]
     },
     "metadata": {
      "needs_background": "light"
     },
     "output_type": "display_data"
    }
   ],
   "source": [
    "cars_per_week = []\n",
    "for i in range(100):\n",
    "    cars_per_day, average = count_cars(7)\n",
    "    cars_per_week.append(average)\n",
    "#    print(\"Week\",i, \":\", cars_per_week[-1])\n",
    "print(\"standard deviation of cars_per_week:\",np.std(cars_per_week))\n",
    "plt.hist(cars_per_week)\n",
    "plt.xlabel('cars_per_week')\n",
    "plt.show()"
   ]
  },
  {
   "cell_type": "markdown",
   "metadata": {},
   "source": [
    "# Lesson 1\n",
    "\n",
    "- in a counting experiment the uncertainty will depend on the number of observations and on the standard deviation of observations\n",
    "- $\\sigma = \\mbox{std}/\\sqrt(N)$\n",
    "- to reduce the uncertainty we can make more measurements or we can make each measurement more precise (reduce the standard deviation\n",
    "- __when calculating uncertainty, do not forget the $\\sqrt(N)$ factor__"
   ]
  },
  {
   "cell_type": "markdown",
   "metadata": {},
   "source": [
    "# Types of uncertainties\n",
    "\n",
    "- the __counting uncertainty__ we have discussed is an example of an *statistical uncertainty*\n",
    "- statistical uncertainties can be improved by running the measurement longer (increasing N) or by repeating the measurement (multiple trials)\n",
    "- there are also __systematic__ uncertainties"
   ]
  },
  {
   "cell_type": "markdown",
   "metadata": {},
   "source": [
    "# Systematic Uncertainties\n",
    "\n",
    "- Measurements usually also have __systematic uncertainties__\n",
    "- These arise from __inherent imperfections__ in the data source, measurement apparatus, method or prior information\n",
    "- Examples: \n",
    "- If occasionally the person counting cars doesn’t pay attention, the measurement will be low\n",
    "- If the person measures for 25 hours, the measurement will be high\n",
    "- __Simply repeating the measurement will usually not reduce the systematic uncertainty__"
   ]
  },
  {
   "cell_type": "markdown",
   "metadata": {},
   "source": [
    "# Systematic uncertainties\n",
    "\n",
    "__Systematic imperfection in__\n",
    "- Method\n",
    "- Apparatus\n",
    "- Calibration\n",
    "- Environment\n",
    "- Model/hypothesis\n",
    "- __Not independent from measurement to measurement__\n",
    "- __Limits accuracy__"
   ]
  },
  {
   "cell_type": "markdown",
   "metadata": {},
   "source": [
    "# Statistical uncertainties\n",
    "\n",
    "- Random/statistical variation in underlying process or measurement\n",
    "- e.g. counting errors, noise, background fluctuations\n",
    "-  __Independent from measurement to measurement__\n",
    "- __Limits precision__\n",
    "- “Averages out” and improves when repeating the measurement/collecting more data"
   ]
  },
  {
   "cell_type": "markdown",
   "metadata": {},
   "source": [
    "# Controlling systematic uncertainties\n",
    "\n",
    "- Controlling and reducing systematic uncertainties is key to understanding data and drawing quantitative conclusions\n",
    "- Statistical uncertainties can easily be measured and reduced by repeating the experiment\n",
    "- Systematic uncertainties require a thorough understanding of all ingredients of the measurement:  imperfection of data source, underlying method, measurement apparatus, analysis method etc"
   ]
  },
  {
   "cell_type": "markdown",
   "metadata": {},
   "source": [
    "# Controlling systematic uncertainties\n",
    "\n",
    "- Calibration: Test and understand analysis accuracy for situations where answer is known\n",
    "- Variation of method/analysis process: Do analysis different ways - do you get the same result?\n",
    "- Stability of result: Does the result change when varying analysis method or parameters? Should be able to understand any observed change\n",
    "- controlling the systematic uncertainties is the most challenging part in any given analysis project\n",
    "- in machine learning, overtraining is an important source of systematic uncertainties"
   ]
  },
  {
   "cell_type": "markdown",
   "metadata": {},
   "source": [
    "# Distributions\n",
    "\n",
    "- measurements often conform to certain types of distributions (or probability density functions)\n",
    "- we will look at some simple distributions and their statistical properties\n",
    "- familiarity with these distributions is important for developing intuition about uncertainties, measurement process etc"
   ]
  },
  {
   "cell_type": "markdown",
   "metadata": {},
   "source": [
    "# Uniform distribution\n",
    "\n",
    "- data is equally likely to fall on any point on a given interval\n",
    "- $P(x) = \\mbox{constant for } a < x < b$\n",
    "__Example :__\n"
   ]
  },
  {
   "cell_type": "code",
   "execution_count": 6,
   "metadata": {},
   "outputs": [
    {
     "data": {
      "image/png": "[encoded data removed]",
      "text/plain": [
       "<Figure size 432x288 with 1 Axes>"
      ]
     },
     "metadata": {
      "needs_background": "light"
     },
     "output_type": "display_data"
    }
   ],
   "source": [
    "x = np.random.rand(100000)* 10 + 5\n",
    "plt.hist(x)\n",
    "plt.xlabel(\"value of x\")\n",
    "plt.ylabel(\"no of observations\")\n",
    "plt.show()"
   ]
  },
  {
   "cell_type": "markdown",
   "metadata": {},
   "source": [
    "# Question \n",
    "\n",
    "- for the distribution above, if I pick numbers at random, what is the uncertainty? \n",
    "- E.g., if the only information you have about a measurement is that it is in the interval of 5 to 15, what uncertainty would you assign?"
   ]
  },
  {
   "cell_type": "code",
   "execution_count": 7,
   "metadata": {},
   "outputs": [
    {
     "name": "stdout",
     "output_type": "stream",
     "text": [
      "Standard deviation of distribution from 5 to 15 is 2.8868148606825517\n"
     ]
    }
   ],
   "source": [
    "sigma = np.std(x)\n",
    "print('Standard deviation of distribution from 5 to 15 is',sigma)"
   ]
  },
  {
   "cell_type": "code",
   "execution_count": 8,
   "metadata": {},
   "outputs": [
    {
     "name": "stdout",
     "output_type": "stream",
     "text": [
      "(interval/std)^2 =  11.999471965841057\n"
     ]
    }
   ],
   "source": [
    "print(\"(interval/std)^2 = \", np.square((15-5)/sigma))"
   ]
  },
  {
   "cell_type": "markdown",
   "metadata": {},
   "source": [
    "# Lesson\n",
    "\n",
    "__uncertainty of a single measurement, from a uniform distribution of width $b - a$ is $\\sigma = (b - a)/\\sqrt(12)$__"
   ]
  },
  {
   "cell_type": "markdown",
   "metadata": {},
   "source": [
    "# Poisson distribution\n",
    "\n",
    "- one of the most important distributions in statistical analysis is the Poisson distribution\n",
    "- it describes the outcome of counting experiments, where one has a constant rate of trials and a small constant probability that the trial will yield a certain result\n",
    "- it was originally developed by Simeon Denis Poisson to describe the number of wrongful convictions in France\n",
    "- the mathematical form is $P(X=k) = \\lambda^k \\times e^{-\\lambda}/k!$, giving the probability of making $k$ observations in a given time. \n",
    "- the average of this distribution is $\\lambda$ and the variance is also $\\lambda$\n",
    "\n",
    "Example: Number of car accidents per day"
   ]
  },
  {
   "cell_type": "code",
   "execution_count": 15,
   "metadata": {
    "scrolled": true
   },
   "outputs": [
    {
     "name": "stdout",
     "output_type": "stream",
     "text": [
      "Counting on average  2998.261 cars per day\n",
      "13  accidents on day 0\n",
      "15  accidents on day 100\n",
      "13  accidents on day 200\n",
      "12  accidents on day 300\n",
      "8  accidents on day 400\n",
      "9  accidents on day 500\n",
      "9  accidents on day 600\n",
      "19  accidents on day 700\n",
      "11  accidents on day 800\n",
      "8  accidents on day 900\n",
      "mean no of accident =  14.869 , 14.991305 expected\n",
      "standard deviation = 14.895838999999997 , 14.991305 expected\n"
     ]
    },
    {
     "data": {
      "image/png": "[encoded data removed]",
      "text/plain": [
       "<Figure size 432x288 with 1 Axes>"
      ]
     },
     "metadata": {
      "needs_background": "light"
     },
     "output_type": "display_data"
    }
   ],
   "source": [
    "cars_per_day, average = count_cars(1000)\n",
    "print(\"Counting on average \",average,\"cars per day\")\n",
    "\n",
    "accident_probability = 0.005\n",
    "accidents_per_day = []\n",
    "for i in range(len(cars_per_day)):\n",
    "    \n",
    "    no_of_accidents = 0\n",
    "    for j in range(cars_per_day[i]):\n",
    "        x = np.random.rand()\n",
    "        if(x < accident_probability):\n",
    "            no_of_accidents += 1\n",
    "    if(i%100 == 0):\n",
    "        print(no_of_accidents,\" accidents on day\",i)\n",
    "    accidents_per_day.append(no_of_accidents)\n",
    "    \n",
    "plt.hist(accidents_per_day)\n",
    "plt.xlabel(\"accidents per day\")\n",
    "plt.ylabel(\"no of observations\")\n",
    "print(\"mean no of accident = \",np.average(accidents_per_day), \",\", average*accident_probability, \"expected\")\n",
    "print(\"standard deviation =\", np.var(accidents_per_day),\",\", average*accident_probability, \"expected\")\n",
    "    "
   ]
  },
  {
   "cell_type": "markdown",
   "metadata": {},
   "source": [
    "__What happens if we increase the average $\\lambda$ ?__"
   ]
  },
  {
   "cell_type": "code",
   "execution_count": 16,
   "metadata": {},
   "outputs": [
    {
     "name": "stdout",
     "output_type": "stream",
     "text": [
      "Counting on average  2998.744 cars per day\n",
      "55  accidents on day 0\n",
      "60  accidents on day 100\n",
      "50  accidents on day 200\n",
      "70  accidents on day 300\n",
      "57  accidents on day 400\n",
      "76  accidents on day 500\n",
      "53  accidents on day 600\n",
      "51  accidents on day 700\n",
      "49  accidents on day 800\n",
      "65  accidents on day 900\n",
      "mean no of accident =  60.255 , 59.974880000000006 expected\n",
      "standard deviation = 59.72397499999999 , 59.974880000000006 expected\n"
     ]
    },
    {
     "data": {
      "image/png": "[encoded data removed]",
      "text/plain": [
       "<Figure size 432x288 with 1 Axes>"
      ]
     },
     "metadata": {
      "needs_background": "light"
     },
     "output_type": "display_data"
    }
   ],
   "source": [
    "cars_per_day, average = count_cars(1000)\n",
    "print(\"Counting on average \",average,\"cars per day\")\n",
    "\n",
    "accident_probability = 0.020\n",
    "accidents_per_day = []\n",
    "for i in range(len(cars_per_day)):\n",
    "    \n",
    "    no_of_accidents = 0\n",
    "    for j in range(cars_per_day[i]):\n",
    "        x = np.random.rand()\n",
    "        if(x < accident_probability):\n",
    "            no_of_accidents += 1\n",
    "    if(i%100 == 0):\n",
    "        print(no_of_accidents,\" accidents on day\",i)\n",
    "    accidents_per_day.append(no_of_accidents)\n",
    "    \n",
    "plt.hist(accidents_per_day)\n",
    "plt.xlabel(\"accidents per day\")\n",
    "plt.ylabel(\"no of observations\")\n",
    "print(\"mean no of accident = \",np.average(accidents_per_day), \",\", average*accident_probability, \"expected\")\n",
    "print(\"standard deviation =\", np.var(accidents_per_day),\",\", average*accident_probability, \"expected\")"
   ]
  },
  {
   "cell_type": "markdown",
   "metadata": {},
   "source": [
    "- __Starts to look like a normal distribution (Gaussian distribution)__\n",
    "- this is not a coincidence, but mathematically correct: the Gaussian distribution is the limit of the Poisson distribution for large $\\lambda$\n"
   ]
  },
  {
   "cell_type": "markdown",
   "metadata": {},
   "source": [
    "# Gaussian distribution (Normal distribution in statistics)\n",
    "\n",
    "- $P(x) = \\frac{1}{\\sigma \\sqrt(2 \\pi)} e^-\\frac{(x - \\mu)^2}{2 \\sigma^2}$\n",
    "- another very imporant probabilit distribution\n",
    "\n",
    "__Example:__"
   ]
  },
  {
   "cell_type": "code",
   "execution_count": 19,
   "metadata": {},
   "outputs": [
    {
     "data": {
      "image/png": "[encoded data removed]",
      "text/plain": [
       "<Figure size 432x288 with 1 Axes>"
      ]
     },
     "metadata": {
      "needs_background": "light"
     },
     "output_type": "display_data"
    }
   ],
   "source": [
    "x = np.random.normal(10,1.3,1000000)\n",
    "\n",
    "plt.hist(x, bins = 200, range = [0,20])\n",
    "plt.xlabel(\"Gaussian random variable\")\n",
    "plt.show()"
   ]
  },
  {
   "cell_type": "markdown",
   "metadata": {},
   "source": [
    "- Why is the Gaussian distribution important?\n",
    "- because we see it everywhere in data, measurements, nature\n",
    "- Why? ==> __Central Limit Theorem__"
   ]
  },
  {
   "cell_type": "code",
   "execution_count": 23,
   "metadata": {},
   "outputs": [
    {
     "data": {
      "image/png": "[encoded data removed]",
      "text/plain": [
       "<Figure size 432x288 with 1 Axes>"
      ]
     },
     "metadata": {
      "needs_background": "light"
     },
     "output_type": "display_data"
    }
   ],
   "source": [
    "# Generate 10 random numbers according to flat distribution from 0 to 1 and add them up\n",
    "# repeat 100 times\n",
    "\n",
    "sum = []\n",
    "for i in range(100000):\n",
    "    x = 0\n",
    "    for j in range(20):\n",
    "        x += np.random.rand()\n",
    "    sum.append(x)\n",
    "    \n",
    "plt.hist(sum, bins=100, range = [0,20])\n",
    "plt.xlabel(\"sum of 20 uniformly distributed numbers\")\n",
    "plt.show()\n",
    "\n"
   ]
  },
  {
   "cell_type": "markdown",
   "metadata": {},
   "source": [
    "- __that looks like a Gaussian__\n",
    "- in general any combination (sum, product, convolution) of sufficiently many, sufficiently well behaved distributions will approach a Gaussian shape\n",
    "- if your data and analysis have many different sources of uncertainty, the overall uncertainty will be well described by a Gaussian\n"
   ]
  },
  {
   "cell_type": "markdown",
   "metadata": {},
   "source": [
    "# Combining uncertainties\n",
    "\n",
    "- if we have uncertainties of $\\sigma_1$ and $\\sigma_2$, how will they combine to a total uncertainty?\n",
    "\n",
    "__Example__\n"
   ]
  },
  {
   "cell_type": "code",
   "execution_count": 27,
   "metadata": {},
   "outputs": [
    {
     "data": {
      "image/png": "[encoded data removed]",
      "text/plain": [
       "<Figure size 432x288 with 1 Axes>"
      ]
     },
     "metadata": {
      "needs_background": "light"
     },
     "output_type": "display_data"
    },
    {
     "name": "stdout",
     "output_type": "stream",
     "text": [
      "Standard variation of combined distribution is  8.742720776117363\n",
      "Expectation is sqrt(4^2 + 6^2+5^2) =  8.774964387392123\n"
     ]
    }
   ],
   "source": [
    "# the expected value of our measurement is x = 100\n",
    "# assuming there are two source of uncertainty with sigma_1 = 4 and sigma_2 = 6\n",
    "# what will be the standard deviation of the resulting measured distribution?\n",
    "\n",
    "x_mean = 100\n",
    "sigma1 = 4\n",
    "sigma2 = 6\n",
    "sigma3 = 5\n",
    "\n",
    "measured = []\n",
    "for i in range(10000):\n",
    "    x = x_mean\n",
    "    x += np.random.normal(0,sigma1)\n",
    "    x += np.random.normal(0,sigma2)\n",
    "    x += np.random.normal(0,sigma3)\n",
    "    measured.append(x)\n",
    "\n",
    "plt.hist(measured, bins = 30, range = [70,130])\n",
    "plt.xlabel(\"Measured value\")\n",
    "plt.ylabel(\"no of observations\")\n",
    "plt.show()\n",
    "\n",
    "print(\"Standard variation of combined distribution is \",np.std(measured))\n",
    "print(\"Expectation is sqrt(4^2 + 6^2+5^2) = \", np.sqrt(sigma1**2 + sigma2**2 + sigma3**2))"
   ]
  },
  {
   "cell_type": "markdown",
   "metadata": {},
   "source": [
    "This is very imporant: __Uncertainties add in quadrature!__"
   ]
  },
  {
   "cell_type": "code",
   "execution_count": 30,
   "metadata": {},
   "outputs": [
    {
     "data": {
      "image/png": "[encoded data removed]",
      "text/plain": [
       "<Figure size 432x288 with 1 Axes>"
      ]
     },
     "metadata": {
      "needs_background": "light"
     },
     "output_type": "display_data"
    },
    {
     "name": "stdout",
     "output_type": "stream",
     "text": [
      "Standard variation of combined distribution is  5.706847600455444\n",
      "Expectation is =  5.744562646538029\n"
     ]
    }
   ],
   "source": [
    "x_mean = 100\n",
    "sigma1 = 2\n",
    "sigma2 = 2\n",
    "sigma3 = 5\n",
    "measured = []\n",
    "for i in range(10000):\n",
    "    x = x_mean\n",
    "    x += np.random.normal(0,sigma1)\n",
    "    x += np.random.normal(0,sigma2)\n",
    "    x += np.random.normal(0,sigma3)\n",
    "    measured.append(x)\n",
    "\n",
    "plt.hist(measured, bins = 30, range = [70,130])\n",
    "plt.xlabel(\"Measured value\")\n",
    "plt.ylabel(\"no of observations\")\n",
    "plt.show()\n",
    "\n",
    "print(\"Standard variation of combined distribution is \",np.std(measured))\n",
    "print(\"Expectation is = \", np.sqrt(sigma1**2 + sigma2**2 + sigma3**2))"
   ]
  },
  {
   "cell_type": "markdown",
   "metadata": {},
   "source": [
    "- Because uncertainties add in quadrature, a single large uncertainty will dominate many small uncertainties\n",
    "- when analyzing data, always need to see if there is one dominant uncertainty\n",
    "- __if yes, try to reduce dominant uncertainty!__"
   ]
  },
  {
   "cell_type": "code",
   "execution_count": null,
   "metadata": {},
   "outputs": [],
   "source": []
  },
  {
   "cell_type": "code",
   "execution_count": null,
   "metadata": {},
   "outputs": [],
   "source": []
  }
 ],
 "metadata": {
  "kernelspec": {
   "display_name": "Python 3 (ipykernel)",
   "language": "python",
   "name": "python3"
  },
  "language_info": {
   "codemirror_mode": {
    "name": "ipython",
    "version": 3
   },
   "file_extension": ".py",
   "mimetype": "text/x-python",
   "name": "python",
   "nbconvert_exporter": "python",
   "pygments_lexer": "ipython3",
   "version": "3.9.12"
  }
 },
 "nbformat": 4,
 "nbformat_minor": 4
}
