{
 "cells": [
  {
   "cell_type": "markdown",
   "id": "2ce73bb0",
   "metadata": {},
   "source": [
    "# Question 2: sqrt algorithm\n",
    "\n"
   ]
  },
  {
   "cell_type": "code",
   "execution_count": 1,
   "id": "59e235fb",
   "metadata": {},
   "outputs": [
    {
     "name": "stdout",
     "output_type": "stream",
     "text": [
      "0.1067971810589327 1\n",
      "0.0051525419820920215 2\n",
      "1.3206298431444753e-05 3\n",
      "8.720194125916936e-11 4\n",
      "sqrt(10) = 3.1622776604441363 (3.1622776601683795) after 4 iterations\n"
     ]
    }
   ],
   "source": [
    "import numpy as np\n",
    "\n",
    "# desired precision: 10^-6 \n",
    "MaxD = 0.000001\n",
    "# max number of iterations allowed; should be at least 1\n",
    "MaxIter = 100\n",
    "\n",
    "# starting value:\n",
    "y = 5\n",
    "\n",
    "# looking for sqrt of x=10\n",
    "x = 10\n",
    "\n",
    "\n",
    "i = 0\n",
    "d = (np.sqrt(x) - y)/np.sqrt(x)\n",
    "# loop until max iterations or desired precision\n",
    "while(i < MaxIter and abs(d) > MaxD):\n",
    "    y = (y + x/y)/2\n",
    "    d = (np.sqrt(x) - y)/np.sqrt(x)\n",
    "    i = i + 1\n",
    "    print(abs(d),i)\n",
    "\n",
    "print(f'sqrt({x}) = {y} ({np.sqrt(x)}) after {i} iterations')"
   ]
  },
  {
   "cell_type": "markdown",
   "id": "2c70d9db",
   "metadata": {},
   "source": [
    "It takes 4 iterations to calculate sqrt(10) to precision < 10^-6, with 5 as starting point"
   ]
  },
  {
   "cell_type": "markdown",
   "id": "49fe20c2",
   "metadata": {},
   "source": [
    "# Question 3: Standard deviation using data_hw1.txt file"
   ]
  },
  {
   "cell_type": "code",
   "execution_count": null,
   "id": "fd2c0e8d",
   "metadata": {
    "scrolled": false
   },
   "outputs": [],
   "source": [
    "#open data file\n",
    "\n",
    "f = open(\"../Data/data_hw1.txt\")\n",
    "\n",
    "# read and ignore header line\n",
    "s = f.readline()\n",
    "\n",
    "# make 8 x 11 array to store 11 values for 8 columns\n",
    "data = np.zeros((8,11))\n",
    "\n",
    "# read remainder of file\n",
    "j = 0\n",
    "s = f.readline()\n",
    "while(s):\n",
    "    ss = s.split()\n",
    "    for i in range(8):\n",
    "        data[i][j] = float(ss[i])\n",
    "    j = j + 1\n",
    "    s = f.readline()\n",
    "\n",
    "for i in range(8):\n",
    "    print(f'Data for column {i}: {data[i]}')\n",
    "    print(f'Standard dev for column {i} = {np.std(data[i])}')\n",
    "    print()"
   ]
  },
  {
   "cell_type": "markdown",
   "id": "7e4bd7c6",
   "metadata": {},
   "source": [
    "HW answers: \n",
    "\n",
    "3.a: Standard deviation for column 1 (if we start counting at 0) is about 1.937\n",
    "\n",
    "3.b: Standard deviation for all event numbered columns is the same, about 3.1622"
   ]
  }
 ],
 "metadata": {
  "kernelspec": {
   "display_name": "Python 3 (ipykernel)",
   "language": "python",
   "name": "python3"
  },
  "language_info": {
   "codemirror_mode": {
    "name": "ipython",
    "version": 3
   },
   "file_extension": ".py",
   "mimetype": "text/x-python",
   "name": "python",
   "nbconvert_exporter": "python",
   "pygments_lexer": "ipython3",
   "version": "3.9.12"
  }
 },
 "nbformat": 4,
 "nbformat_minor": 5
}
