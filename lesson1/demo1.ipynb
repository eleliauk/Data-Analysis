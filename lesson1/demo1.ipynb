{
 "cells": [
  {
   "cell_type": "markdown",
   "id": "f81d4ee6",
   "metadata": {
    "id": "4f5312a9"
   },
   "source": [
    "## Python入门"
   ]
  },
  {
   "cell_type": "markdown",
   "id": "34e06153",
   "metadata": {},
   "source": [
    "### 数据存储"
   ]
  },
  {
   "cell_type": "code",
   "execution_count": 1,
   "id": "058b707d",
   "metadata": {
    "id": "bb679e18"
   },
   "outputs": [
    {
     "name": "stdout",
     "output_type": "stream",
     "text": [
      "<class 'int'>\n",
      "<class 'float'>\n",
      "<class 'bool'>\n",
      "<class 'str'>\n",
      "<class 'list'>\n",
      "<class 'tuple'>\n",
      "<class 'set'>\n",
      "<class 'dict'>\n",
      "{1, 2, 3}\n"
     ]
    }
   ],
   "source": [
    "a = 10\n",
    "print(type(a))\n",
    "b = 10.\n",
    "print(type(b))\n",
    "c = False\n",
    "print(type(c))\n",
    "d = \"hello, world\"\n",
    "e = [1,2,3]\n",
    "f = (1,2,3)\n",
    "g = {1,2,3,3}\n",
    "h = {'apple':'a kind of fruit', 'pear': 'another kind of fruit'}\n",
    "\n",
    "print(type(d))\n",
    "print(type(e))\n",
    "print(type(f))\n",
    "print(type(g))\n",
    "print(type(h))\n",
    "\n",
    "print(g)"
   ]
  },
  {
   "cell_type": "markdown",
   "id": "592475b7",
   "metadata": {},
   "source": [
    "### 逻辑控制\n",
    "\n",
    "<div>\n",
    "<img src=\"./if.png\" width = \"30%\" height = \"30%\" alt=\"if\" align=left  />\n",
    "<img src=\"./while.png\" width = \"30%\" height = \"30%\" alt=\"while\" align=right />\n",
    "<img src=\"./elif.png\" width = \"30%\" height = \"30%\" alt=\"center\" />\n",
    "<div/>"
   ]
  },
  {
   "cell_type": "code",
   "execution_count": 2,
   "id": "93a3fbf0",
   "metadata": {
    "id": "bb679e18"
   },
   "outputs": [
    {
     "name": "stdout",
     "output_type": "stream",
     "text": [
      "tutorial has ended\n",
      "cool\n",
      "5050\n",
      "5050\n"
     ]
    }
   ],
   "source": [
    "import datetime\n",
    "\n",
    "# if\n",
    "now = datetime.datetime.now()\n",
    "tutorial_end = datetime.datetime(2023,12,9,16)\n",
    "if (now > tutorial_end):\n",
    "    print('tutorial has ended')\n",
    "else:\n",
    "    print('in tutorial')\n",
    "\n",
    "# elif\n",
    "weather = 'rainy'\n",
    "if weather == 'rainy':\n",
    "    print('cool')\n",
    "    weather = 'sunny'\n",
    "elif weather == 'sunny':\n",
    "    print('hot')\n",
    "else:\n",
    "    print('fine')\n",
    "\n",
    "# while\n",
    "i = 1\n",
    "Sum = 0\n",
    "while i < 101:\n",
    "    Sum += i\n",
    "    i += 1\n",
    "print(Sum)\n",
    "\n",
    "# for（用于遍历）\n",
    "Sum = 0 \n",
    "# [1, 101)\n",
    "for i in range(1, 101):\n",
    "    Sum += i\n",
    "print(Sum)"
   ]
  },
  {
   "cell_type": "markdown",
   "id": "22a4b56e",
   "metadata": {},
   "source": [
    "### 函数"
   ]
  },
  {
   "cell_type": "code",
   "execution_count": 3,
   "id": "5abc3e5a",
   "metadata": {
    "id": "bb679e18"
   },
   "outputs": [
    {
     "name": "stdout",
     "output_type": "stream",
     "text": [
      "3\n"
     ]
    }
   ],
   "source": [
    "def Max(a, b):\n",
    "    if (a > b):\n",
    "        return a\n",
    "    else:\n",
    "        return b\n",
    "    \n",
    "print(Max(2,3))"
   ]
  },
  {
   "cell_type": "markdown",
   "id": "082df761",
   "metadata": {},
   "source": [
    "### 类"
   ]
  },
  {
   "cell_type": "code",
   "execution_count": 4,
   "id": "bfa426ce",
   "metadata": {
    "id": "bb679e18"
   },
   "outputs": [
    {
     "name": "stdout",
     "output_type": "stream",
     "text": [
      "x = 0, y = 0\n",
      "x = 1, y = 2\n",
      "x = 2, y = 4\n"
     ]
    }
   ],
   "source": [
    "class Person:\n",
    "    def __init__(self):\n",
    "        self.x = 0\n",
    "        self.y = 0\n",
    "        \n",
    "    def walk(self, dx, dy):\n",
    "        self.x += dx\n",
    "        self.y += dy\n",
    "        \n",
    "    def show(self):\n",
    "        print('x = {}, y = {}'.format(self.x, self.y))\n",
    "        \n",
    "    def walk_then_show(self, dx, dy):\n",
    "        self.walk(dx, dy)\n",
    "        self.show()\n",
    "        \n",
    "p = Person()\n",
    "p.show()\n",
    "p.walk(1, 2)\n",
    "p.show()\n",
    "p.walk_then_show(1, 2)"
   ]
  },
  {
   "cell_type": "markdown",
   "id": "2995d4d0",
   "metadata": {},
   "source": [
    "### 输入输出"
   ]
  },
  {
   "cell_type": "code",
   "execution_count": 5,
   "id": "bb679e18",
   "metadata": {
    "id": "bb679e18"
   },
   "outputs": [
    {
     "name": "stdout",
     "output_type": "stream",
     "text": [
      "How old are you? 20\n",
      "<class 'str'>\n",
      "20.0\n"
     ]
    }
   ],
   "source": [
    "inpt = input('How old are you? ')\n",
    "print(type(inpt))\n",
    "print(float(inpt))"
   ]
  },
  {
   "cell_type": "markdown",
   "id": "e0ba6047",
   "metadata": {},
   "source": [
    "## 安装及运行Python"
   ]
  },
  {
   "cell_type": "markdown",
   "id": "79cda4a5",
   "metadata": {},
   "source": [
    "运行Python的流程：\n",
    "- 书写编程语言**源文件**\n",
    "- 执行编程语言**解释器**，用以解释**源文件**\n",
    "\n",
    "安装Python：\n",
    "- **代码编辑器**（用以书写源文件）\n",
    "- **解释器**（用以执行源文件）\n",
    "- **包管理器**（用以安装他人写好的代码）\n",
    "- **包**（他人写好的代码）\n",
    "\n",
    "\"Python\"相关的程序辨析：\n",
    "\n",
    "- **Colab** = **网页形式的代码编辑器**\n",
    "\n",
    "    **Colab**和**Jupyter Notebook**很类似，只不过它的**解释器**在运行远端服务器上。远端服务器本身也已经安装了很多常用的**包**。\n",
    "\n",
    "\n",
    "- **Anaconda** = **解释器** + **包管理器**（图形化界面） + 常用**包** + **代码编辑器**\n",
    "    \n",
    "    **Anaconda**的常用**包**中就包含了**Jupyter Notebook/Lab, Spyder**\n",
    "\n",
    "\n",
    "- **Python** = **解释器** + **包管理器**（命令行界面）\n",
    "\n",
    "\n",
    "- **Jupyter Notebook/Lab** = **网页形式的代码编辑器**\n",
    "\n",
    "    **Jupyter Notebook/Lab**除了编写**源文件**，还能够寻找已安装的Python**解释器**，来执行Notebook中的代码块。\n",
    "    \n",
    "    **Jupyter Notebook/Lab**本身即是一个Python编写的网页程序，只不过服务端在本地，客户端（网页）也在本地。\n",
    "    \n",
    "    **Jupyter Notebook/Lab**本身是一个Python**包**，可以由Python**包管理器**安装。\n",
    "    \n",
    "    **Jupyter Notebook/Lab**作为一个Python程序，它本身需要由Python**解释器**执行，所以Jupyter Notebook/Lab能够运行意味着Python**解释器**一定已经安装\n",
    "\n",
    "\n",
    "- **VSCode** = **代码编辑器**\n",
    "\n",
    "    **VSCode**本身是一个代码编辑器，通过相应的配置，使得VSCode寻找到系统中的Python解释器，便可以让它通过调用解释器执行Python代码\n",
    "    \n",
    "    \n",
    "- **PyCharm** = **代码编辑器**\n",
    "\n",
    "    有些代码编辑器（比如**VSCode**）和集成开发环境(**IDE**)之间往往没有特别明显的界限。IDE除了编写代码、执行代码的功能以外，还集成了很多开发中常用的工具，比如版本控制，代码调试等等。\n",
    "    \n",
    "    \n",
    "- 记事本 = 代码编辑器\n",
    "\n",
    "    可以，但没必要"
   ]
  }
 ],
 "metadata": {
  "colab": {
   "collapsed_sections": [],
   "name": "demo1.ipynb",
   "provenance": []
  },
  "kernelspec": {
   "display_name": "Python 3 (ipykernel)",
   "language": "python",
   "name": "python3"
  },
  "language_info": {
   "codemirror_mode": {
    "name": "ipython",
    "version": 3
   },
   "file_extension": ".py",
   "mimetype": "text/x-python",
   "name": "python",
   "nbconvert_exporter": "python",
   "pygments_lexer": "ipython3",
   "version": "3.11.5"
  },
  "toc": {
   "base_numbering": 1,
   "nav_menu": {},
   "number_sections": true,
   "sideBar": true,
   "skip_h1_title": false,
   "title_cell": "Table of Contents",
   "title_sidebar": "Contents",
   "toc_cell": false,
   "toc_position": {},
   "toc_section_display": true,
   "toc_window_display": false
  }
 },
 "nbformat": 4,
 "nbformat_minor": 5
}
