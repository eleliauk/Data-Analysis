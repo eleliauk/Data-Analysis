{
 "cells": [
  {
   "cell_type": "code",
   "execution_count": 1,
   "metadata": {},
   "outputs": [
    {
     "name": "stdout",
     "output_type": "stream",
     "text": [
      "1-th column\n",
      "方差:  3.1622776601683795\n",
      "均值:  9.0\n",
      "2-th column\n",
      "方差:  1.937024215108669\n",
      "均值:  7.500909090909091\n",
      "3-th column\n",
      "方差:  3.1622776601683795\n",
      "均值:  9.0\n",
      "4-th column\n",
      "方差:  1.93710869148962\n",
      "均值:  7.500909090909091\n",
      "5-th column\n",
      "方差:  3.1622776601683795\n",
      "均值:  9.0\n",
      "6-th column\n",
      "方差:  1.9359329439927313\n",
      "均值:  7.5\n",
      "7-th column\n",
      "方差:  3.1622776601683795\n",
      "均值:  9.0\n",
      "8-th column\n",
      "方差:  1.9360806451340837\n",
      "均值:  7.500909090909091\n"
     ]
    }
   ],
   "source": [
    "import numpy as np\n",
    "\n",
    "num_rows = 11\n",
    "num_cols = 8\n",
    "\n",
    "with open('data_HW1.txt', 'r') as f:\n",
    "    lines = f.readlines()\n",
    "    columns = [[] for i in range(num_cols)]\n",
    "    for line in lines[1:]:\n",
    "        numbers = line.strip().split('\\t')\n",
    "        for i, number in enumerate(numbers):\n",
    "            columns[i].append(float(number))\n",
    "            \n",
    "    for i, column in enumerate(columns):\n",
    "        print(f'{i+1}-th column')\n",
    "        print('方差: ', np.std(column))\n",
    "        print('均值: ', sum(column) / len(column))"
   ]
  }
 ],
 "metadata": {
  "kernelspec": {
   "display_name": "Python 3",
   "language": "python",
   "name": "python3"
  },
  "language_info": {
   "codemirror_mode": {
    "name": "ipython",
    "version": 3
   },
   "file_extension": ".py",
   "mimetype": "text/x-python",
   "name": "python",
   "nbconvert_exporter": "python",
   "pygments_lexer": "ipython3",
   "version": "3.12.0"
  }
 },
 "nbformat": 4,
 "nbformat_minor": 2
}
