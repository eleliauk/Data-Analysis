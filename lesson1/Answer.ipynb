{
 "cells": [
  {
   "cell_type": "code",
   "execution_count": 3,
   "id": "87e2c10c",
   "metadata": {},
   "outputs": [
    {
     "name": "stdout",
     "output_type": "stream",
     "text": [
      "<class 'int'>\n",
      "{1, 2, 3}\n"
     ]
    }
   ],
   "source": [
    "a = 10\n",
    "print(type(a))\n",
    "\n",
    "b = 1.1\n",
    "c = True\n",
    "d = \"hello, world\"\n",
    "e = [1,2,3]\n",
    "f = (1,2,3)\n",
    "g = {1,2,3,1}\n",
    "print(g)\n",
    "h = {'apple': 'a kind of fruit', 'pear': 'another kind of fruit'}"
   ]
  },
  {
   "cell_type": "code",
   "execution_count": 10,
   "id": "4eb1f4ac",
   "metadata": {},
   "outputs": [
    {
     "data": {
      "text/plain": [
       "4.472136079237945"
      ]
     },
     "execution_count": 10,
     "metadata": {},
     "output_type": "execute_result"
    }
   ],
   "source": [
    "import random\n",
    "\n",
    "def squared_root(x, epsilon):\n",
    "    y = random.random()\n",
    "    while abs(y * y - x) > epsilon:\n",
    "        y = (y + x / y) / 2\n",
    "    return y\n",
    "\n",
    "squared_root(20, 0.00001)"
   ]
  },
  {
   "cell_type": "code",
   "execution_count": 17,
   "id": "36439c62",
   "metadata": {},
   "outputs": [
    {
     "name": "stdout",
     "output_type": "stream",
     "text": [
      "x\ty\tx\ty\tx\ty\tx\ty\t\n",
      "12.94\t7.63\t11.88\t7.78\t9.37\t10.29\t5.04\t6.60\t\n",
      "8.12\t13.23\t2.34\t13.48\t5.82\t4.06\t10.11\t6.48\t\n",
      "0.02\t4.81\t8.56\t2.84\t1.74\t7.99\t8.07\t7.85\t\n",
      "5.32\t9.20\t13.37\t2.28\t6.19\t9.97\t3.35\t0.75\t\n",
      "7.28\t2.73\t11.65\t9.85\t14.61\t14.30\t0.71\t6.19\t\n",
      "9.88\t7.13\t10.61\t10.42\t3.26\t7.04\t12.80\t4.49\t\n",
      "12.04\t0.47\t2.53\t10.34\t9.83\t13.83\t14.36\t13.81\t\n",
      "7.52\t0.52\t3.44\t1.64\t11.67\t10.22\t14.70\t6.36\t\n",
      "10.59\t8.12\t4.56\t9.94\t4.81\t14.56\t5.69\t0.07\t\n",
      "13.15\t6.01\t12.13\t2.94\t12.66\t0.40\t6.55\t11.14\t\n",
      "2.26\t3.18\t11.68\t7.99\t6.31\t14.53\t1.95\t1.50\t\n"
     ]
    }
   ],
   "source": [
    "import random\n",
    "\n",
    "num_rows = 11\n",
    "num_cols = 8\n",
    "\n",
    "for i in range(num_cols): # [0,num_cols)\n",
    "    print('x' if i % 2 == 0 else 'y', end='\\t')\n",
    "print()\n",
    "\n",
    "\n",
    "for i in range(num_rows):\n",
    "    for j in range(num_cols):\n",
    "        print(f'{random.random() * 15:.2f}', end='\\t')\n",
    "    print()"
   ]
  },
  {
   "cell_type": "code",
   "execution_count": 18,
   "id": "84fa177d",
   "metadata": {},
   "outputs": [],
   "source": [
    "import random\n",
    "\n",
    "num_rows = 11\n",
    "num_cols = 8\n",
    "\n",
    "random.seed(0)\n",
    "\n",
    "with open('data_HW1.txt', 'w') as f:\n",
    "    content = ''\n",
    "    for i in range(num_cols): # [0,num_cols)\n",
    "        content += 'x' if i % 2 == 0 else 'y'\n",
    "        content += '\\t'\n",
    "    content += '\\n'\n",
    "\n",
    "    for i in range(num_rows):\n",
    "        for j in range(num_cols):\n",
    "            content += f'{random.random() * 15:.2f}'\n",
    "            content += '\\t'\n",
    "        content += '\\n'\n",
    "    \n",
    "    f.write(content)"
   ]
  },
  {
   "cell_type": "code",
   "execution_count": 25,
   "id": "7c918ffe",
   "metadata": {},
   "outputs": [
    {
     "name": "stdout",
     "output_type": "stream",
     "text": [
      "0-th column\n",
      "std:  4.507035822003909\n",
      "avg:  7.379090909090909\n",
      "1-th column\n",
      "std:  3.7929299170129545\n",
      "avg:  9.909090909090908\n",
      "2-th column\n",
      "std:  2.560091682242572\n",
      "avg:  9.698181818181817\n",
      "3-th column\n",
      "std:  3.5642142388604907\n",
      "avg:  5.993636363636364\n",
      "4-th column\n",
      "std:  3.784243322073933\n",
      "avg:  8.175454545454544\n",
      "5-th column\n",
      "std:  3.7432175579239866\n",
      "avg:  8.766363636363636\n",
      "6-th column\n",
      "std:  4.002073016544309\n",
      "avg:  9.805454545454545\n",
      "7-th column\n",
      "std:  3.766690021624857\n",
      "avg:  9.209090909090907\n"
     ]
    }
   ],
   "source": [
    "import numpy as np\n",
    "\n",
    "num_rows = 11\n",
    "num_cols = 8\n",
    "\n",
    "with open('data_HW1.txt', 'r') as f:\n",
    "    lines = f.readlines()\n",
    "    columns = [[] for i in range(num_cols)]\n",
    "    for line in lines[1:]:\n",
    "        numbers = line.strip().split('\\t')\n",
    "        for i, number in enumerate(numbers):\n",
    "            columns[i].append(float(number))\n",
    "            \n",
    "    for i, column in enumerate(columns):\n",
    "        print(f'{i}-th column')\n",
    "        print('std: ', np.std(column))\n",
    "        print('avg: ', sum(column) / len(column))"
   ]
  }
 ],
 "metadata": {
  "kernelspec": {
   "display_name": "Python 3 (ipykernel)",
   "language": "python",
   "name": "python3"
  },
  "language_info": {
   "codemirror_mode": {
    "name": "ipython",
    "version": 3
   },
   "file_extension": ".py",
   "mimetype": "text/x-python",
   "name": "python",
   "nbconvert_exporter": "python",
   "pygments_lexer": "ipython3",
   "version": "3.11.5"
  },
  "toc": {
   "base_numbering": 1,
   "nav_menu": {},
   "number_sections": true,
   "sideBar": false,
   "skip_h1_title": false,
   "title_cell": "Table of Contents",
   "title_sidebar": "Contents",
   "toc_cell": false,
   "toc_position": {},
   "toc_section_display": true,
   "toc_window_display": false
  }
 },
 "nbformat": 4,
 "nbformat_minor": 5
}
